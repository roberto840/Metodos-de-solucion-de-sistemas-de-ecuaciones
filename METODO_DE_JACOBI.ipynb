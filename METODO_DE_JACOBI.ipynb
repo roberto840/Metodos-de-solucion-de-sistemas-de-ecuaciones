{
  "nbformat": 4,
  "nbformat_minor": 0,
  "metadata": {
    "colab": {
      "name": "METODO DE JACOBI.ipynb",
      "provenance": []
    },
    "kernelspec": {
      "name": "python3",
      "display_name": "Python 3"
    },
    "language_info": {
      "name": "python"
    }
  },
  "cells": [
    {
      "cell_type": "code",
      "metadata": {
        "id": "tuPqnIQ2gJBw"
      },
      "source": [
        "import numpy as np"
      ],
      "execution_count": null,
      "outputs": []
    },
    {
      "cell_type": "code",
      "metadata": {
        "colab": {
          "base_uri": "https://localhost:8080/"
        },
        "id": "k6XNsXNUgOoc",
        "outputId": "142c7c36-38a8-496a-edb8-5924c9b0159c"
      },
      "source": [
        "#Definimos la martriz T\n",
        "T=np.array([[0,1/3,-1/3],[-1/2,0,-1/3],[-3/7,-3/7,0]])\n",
        "c=np.array([1/3,0,4/7])\n",
        "x=np.array([0,0,0]) #Vector de valores iniciales\n",
        "erroraceptado=0.01\n",
        "print(\"La matriz es de:\",T.shape)\n",
        "print(c.shape)\n",
        "error=1\n",
        "iteracion=0\n",
        "while error>erroraceptado:\n",
        "  resultado=np.dot(T,x)+c\n",
        "  print(\"Iteracion\",iteracion,resultado)\n",
        "  numerador=np.amax(abs((resultado-x)))\n",
        "  denominador=np.amax(abs(resultado))\n",
        "  error=numerador/denominador\n",
        "  x=resultado\n",
        "  iteracion+=1"
      ],
      "execution_count": null,
      "outputs": [
        {
          "output_type": "stream",
          "text": [
            "La matriz es de: (3, 3)\n",
            "(3,)\n",
            "Iteracion 0 [0.33333333 0.         0.57142857]\n",
            "Iteracion 1 [ 0.14285714 -0.35714286  0.42857143]\n",
            "Iteracion 2 [ 0.07142857 -0.21428571  0.66326531]\n",
            "Iteracion 3 [ 0.04081633 -0.25680272  0.63265306]\n",
            "Iteracion 4 [ 0.03684807 -0.23129252  0.66399417]\n",
            "Iteracion 5 [ 0.03490444 -0.23975543  0.6547619 ]\n",
            "Iteracion 6 [ 0.03516089 -0.23570619  0.65922185]\n"
          ],
          "name": "stdout"
        }
      ]
    }
  ]
}