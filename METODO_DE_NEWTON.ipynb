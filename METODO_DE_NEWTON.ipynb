{
  "nbformat": 4,
  "nbformat_minor": 0,
  "metadata": {
    "colab": {
      "name": "METODO DE NEWTON.ipynb",
      "provenance": []
    },
    "kernelspec": {
      "name": "python3",
      "display_name": "Python 3"
    },
    "language_info": {
      "name": "python"
    }
  },
  "cells": [
    {
      "cell_type": "code",
      "metadata": {
        "colab": {
          "base_uri": "https://localhost:8080/"
        },
        "id": "wHdWt2tZlaWZ",
        "outputId": "a7bb2d3b-696f-442f-f261-f8d86a40c603"
      },
      "source": [
        "import numpy as np\n",
        "import math\n",
        "def jacobiano(x):\n",
        "    J = np.array([[8*x[0]-20,1/2*x[1]],[(1/2*x[1]**2)+2,x[0]*x[1]-5]])\n",
        "    JInversa = np.linalg.inv(J)\n",
        "    return JInversa\n",
        "\n",
        "def Fx(x):\n",
        "    x1 = (4*x[0]**2)-(20*x[0])+(1/4*x[1]**2)+8\n",
        "    \n",
        "    x2= (1/2*x[0]*x[1]**2)+(2*x[0])-(5*x[1])+8\n",
        "    \n",
        "    xk = np.array([x1,x2])\n",
        "    return xk\n",
        "x = np.array([0,0]) #vector de valores iniciales\n",
        "error = 1\n",
        "c=0\n",
        "maxiter=int(input('introduzca numero de iteraciones'))\n",
        "iteraciones=0\n",
        "while error>0.01 and iteraciones<maxiter:\n",
        "    iteraciones+=1\n",
        "    c+=1\n",
        "    r= jacobiano(x)\n",
        "    feval = Fx(x)\n",
        "    resultado =x- np.dot(r,feval)\n",
        "    \n",
        "    numerador = np.amax( abs((resultado - x)))\n",
        "    denominador = np.amax( abs(resultado))\n",
        "    error = numerador/denominador\n",
        "    x=resultado\n",
        "    \n",
        "    print(\"Iteración:\",c,\" Resultado \",resultado)"
      ],
      "execution_count": null,
      "outputs": [
        {
          "output_type": "stream",
          "text": [
            "introduzca numero de iteraciones10\n",
            "Iteración: 1  Resultado  [0.4  1.76]\n",
            "Iteración: 2  Resultado  [0.49589361 1.98342347]\n",
            "Iteración: 3  Resultado  [0.49998761 1.99993705]\n"
          ],
          "name": "stdout"
        }
      ]
    }
  ]
}